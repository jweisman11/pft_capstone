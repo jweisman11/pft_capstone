{
 "cells": [
  {
   "cell_type": "code",
   "execution_count": 1,
   "metadata": {},
   "outputs": [],
   "source": [
    "# Load libraries\n",
    "import pandas as pd\n",
    "import os\n",
    "\n",
    "# Load modules\n",
    "import modules.scrape_pft_articles as scrape_article\n",
    "import modules.scrape_pft_comments as scrape_comments"
   ]
  },
  {
   "cell_type": "markdown",
   "metadata": {},
   "source": [
    "### Test scraping modules"
   ]
  },
  {
   "cell_type": "code",
   "execution_count": 3,
   "metadata": {},
   "outputs": [
    {
     "data": {
      "text/html": [
       "<div>\n",
       "<style scoped>\n",
       "    .dataframe tbody tr th:only-of-type {\n",
       "        vertical-align: middle;\n",
       "    }\n",
       "\n",
       "    .dataframe tbody tr th {\n",
       "        vertical-align: top;\n",
       "    }\n",
       "\n",
       "    .dataframe thead th {\n",
       "        text-align: right;\n",
       "    }\n",
       "</style>\n",
       "<table border=\"1\" class=\"dataframe\">\n",
       "  <thead>\n",
       "    <tr style=\"text-align: right;\">\n",
       "      <th></th>\n",
       "      <th>article_title</th>\n",
       "      <th>article_url</th>\n",
       "      <th>article_post_date</th>\n",
       "      <th>article_author</th>\n",
       "      <th>article_body</th>\n",
       "      <th>comment_count</th>\n",
       "      <th>scrape_datetime</th>\n",
       "      <th>page_url</th>\n",
       "    </tr>\n",
       "  </thead>\n",
       "  <tbody>\n",
       "    <tr>\n",
       "      <th>0</th>\n",
       "      <td>NFL planning 20 percent capacity at Super Bowl</td>\n",
       "      <td>https://profootballtalk.nbcsports.com/2020/10/...</td>\n",
       "      <td>October 28, 2020, 3:22 PM EDT</td>\n",
       "      <td>Posted by Michael David Smith</td>\n",
       "      <td>\\n\\n\\n \\n\\n\\n Getty Images\\n\\nSuper Bowl LV wi...</td>\n",
       "      <td>5 Comments Feed for comments</td>\n",
       "      <td>2020-10-28 19:17:33.002840</td>\n",
       "      <td>https://profootballtalk.nbcsports.com/category...</td>\n",
       "    </tr>\n",
       "  </tbody>\n",
       "</table>\n",
       "</div>"
      ],
      "text/plain": [
       "                                    article_title  \\\n",
       "0  NFL planning 20 percent capacity at Super Bowl   \n",
       "\n",
       "                                         article_url  \\\n",
       "0  https://profootballtalk.nbcsports.com/2020/10/...   \n",
       "\n",
       "               article_post_date                  article_author  \\\n",
       "0  October 28, 2020, 3:22 PM EDT   Posted by Michael David Smith   \n",
       "\n",
       "                                        article_body  \\\n",
       "0  \\n\\n\\n \\n\\n\\n Getty Images\\n\\nSuper Bowl LV wi...   \n",
       "\n",
       "                  comment_count            scrape_datetime  \\\n",
       "0  5 Comments Feed for comments 2020-10-28 19:17:33.002840   \n",
       "\n",
       "                                            page_url  \n",
       "0  https://profootballtalk.nbcsports.com/category...  "
      ]
     },
     "execution_count": 3,
     "metadata": {},
     "output_type": "execute_result"
    }
   ],
   "source": [
    "articles = scrape_article.scrape_pft_rumormill(r'https://profootballtalk.nbcsports.com/category/rumor-mill/page/2/')\n",
    "articles.head(1)"
   ]
  },
  {
   "cell_type": "code",
   "execution_count": 4,
   "metadata": {},
   "outputs": [
    {
     "data": {
      "text/html": [
       "<div>\n",
       "<style scoped>\n",
       "    .dataframe tbody tr th:only-of-type {\n",
       "        vertical-align: middle;\n",
       "    }\n",
       "\n",
       "    .dataframe tbody tr th {\n",
       "        vertical-align: top;\n",
       "    }\n",
       "\n",
       "    .dataframe thead th {\n",
       "        text-align: right;\n",
       "    }\n",
       "</style>\n",
       "<table border=\"1\" class=\"dataframe\">\n",
       "  <thead>\n",
       "    <tr style=\"text-align: right;\">\n",
       "      <th></th>\n",
       "      <th>article_url</th>\n",
       "      <th>commentor</th>\n",
       "      <th>comment_datetime</th>\n",
       "      <th>comment_body</th>\n",
       "      <th>scrape_datetime</th>\n",
       "    </tr>\n",
       "  </thead>\n",
       "  <tbody>\n",
       "    <tr>\n",
       "      <th>0</th>\n",
       "      <td>https://profootballtalk.nbcsports.com/2014/12/...</td>\n",
       "      <td>joetoronto</td>\n",
       "      <td>December 22, 2014 at 7:54 am</td>\n",
       "      <td>\\nThe over the top coverage of this guy remind...</td>\n",
       "      <td>2020-10-28 19:17:35.672468</td>\n",
       "    </tr>\n",
       "  </tbody>\n",
       "</table>\n",
       "</div>"
      ],
      "text/plain": [
       "                                         article_url   commentor  \\\n",
       "0  https://profootballtalk.nbcsports.com/2014/12/...  joetoronto   \n",
       "\n",
       "               comment_datetime  \\\n",
       "0  December 22, 2014 at 7:54 am   \n",
       "\n",
       "                                        comment_body  \\\n",
       "0  \\nThe over the top coverage of this guy remind...   \n",
       "\n",
       "             scrape_datetime  \n",
       "0 2020-10-28 19:17:35.672468  "
      ]
     },
     "execution_count": 4,
     "metadata": {},
     "output_type": "execute_result"
    }
   ],
   "source": [
    "comments = scrape_comments.scrape_comments_from_pft_article_v2('https://profootballtalk.nbcsports.com/2014/12/22/cam-newtons-toughness-on-display-yet-again/')\n",
    "comments.head(1)"
   ]
  },
  {
   "cell_type": "markdown",
   "metadata": {},
   "source": [
    "### Test serial vs parallel article methods"
   ]
  },
  {
   "cell_type": "code",
   "execution_count": null,
   "metadata": {},
   "outputs": [],
   "source": [
    "serial = pd.read_csv('data/serial_article_test.csv', header=0)\n",
    "print(serial.shape)\n",
    "serial.head()"
   ]
  },
  {
   "cell_type": "code",
   "execution_count": null,
   "metadata": {},
   "outputs": [],
   "source": [
    "# Parallel is clearly faster\n",
    "parallel = pd.read_csv('data/pft_articles_collected_20201017_test.csv', header=0)\n",
    "print(parallel.shape)\n",
    "parallel.head()"
   ]
  },
  {
   "cell_type": "markdown",
   "metadata": {},
   "source": [
    "### Inspect collected articles"
   ]
  },
  {
   "cell_type": "code",
   "execution_count": 2,
   "metadata": {},
   "outputs": [
    {
     "data": {
      "text/plain": [
       "['pft_articles_collected_w_comment_counts_20201017.csv', 'processed', 'raw']"
      ]
     },
     "execution_count": 2,
     "metadata": {},
     "output_type": "execute_result"
    }
   ],
   "source": [
    "os.listdir('data')"
   ]
  },
  {
   "cell_type": "code",
   "execution_count": 4,
   "metadata": {},
   "outputs": [
    {
     "name": "stdout",
     "output_type": "stream",
     "text": [
      "(202937, 8)\n"
     ]
    },
    {
     "data": {
      "text/html": [
       "<div>\n",
       "<style scoped>\n",
       "    .dataframe tbody tr th:only-of-type {\n",
       "        vertical-align: middle;\n",
       "    }\n",
       "\n",
       "    .dataframe tbody tr th {\n",
       "        vertical-align: top;\n",
       "    }\n",
       "\n",
       "    .dataframe thead th {\n",
       "        text-align: right;\n",
       "    }\n",
       "</style>\n",
       "<table border=\"1\" class=\"dataframe\">\n",
       "  <thead>\n",
       "    <tr style=\"text-align: right;\">\n",
       "      <th></th>\n",
       "      <th>article_title</th>\n",
       "      <th>article_url</th>\n",
       "      <th>article_post_date</th>\n",
       "      <th>article_author</th>\n",
       "      <th>article_body</th>\n",
       "      <th>comment_count</th>\n",
       "      <th>scrape_datetime</th>\n",
       "      <th>page_url</th>\n",
       "    </tr>\n",
       "  </thead>\n",
       "  <tbody>\n",
       "    <tr>\n",
       "      <th>0</th>\n",
       "      <td>Week 7 2020 best bets</td>\n",
       "      <td>https://profootballtalk.nbcsports.com/2020/10/...</td>\n",
       "      <td>October 25, 2020, 10:32 AM EDT</td>\n",
       "      <td>Posted by Mike Florio</td>\n",
       "      <td>\\n\\n\\n \\n\\n\\n Getty Images\\n\\nWeek Seven of th...</td>\n",
       "      <td>0 Comments Feed for comments</td>\n",
       "      <td>2020-10-25 10:53:51.516183</td>\n",
       "      <td>https://profootballtalk.nbcsports.com/category...</td>\n",
       "    </tr>\n",
       "  </tbody>\n",
       "</table>\n",
       "</div>"
      ],
      "text/plain": [
       "           article_title                                        article_url  \\\n",
       "0  Week 7 2020 best bets  https://profootballtalk.nbcsports.com/2020/10/...   \n",
       "\n",
       "                article_post_date          article_author  \\\n",
       "0  October 25, 2020, 10:32 AM EDT   Posted by Mike Florio   \n",
       "\n",
       "                                        article_body  \\\n",
       "0  \\n\\n\\n \\n\\n\\n Getty Images\\n\\nWeek Seven of th...   \n",
       "\n",
       "                  comment_count             scrape_datetime  \\\n",
       "0  0 Comments Feed for comments  2020-10-25 10:53:51.516183   \n",
       "\n",
       "                                            page_url  \n",
       "0  https://profootballtalk.nbcsports.com/category...  "
      ]
     },
     "execution_count": 4,
     "metadata": {},
     "output_type": "execute_result"
    }
   ],
   "source": [
    "articles = pd.read_csv('data/raw/pft_articles_collected_w_comment_counts_20201025.csv', header=0)\n",
    "print(articles.shape)\n",
    "articles.head(1)"
   ]
  },
  {
   "cell_type": "code",
   "execution_count": 7,
   "metadata": {},
   "outputs": [
    {
     "data": {
      "text/plain": [
       "196252"
      ]
     },
     "execution_count": 7,
     "metadata": {},
     "output_type": "execute_result"
    }
   ],
   "source": [
    "articles[articles.comment_count != '0 Comments Feed for comments']['article_url'].nunique()"
   ]
  },
  {
   "cell_type": "markdown",
   "metadata": {},
   "source": [
    "### Inspect collected comments"
   ]
  },
  {
   "cell_type": "code",
   "execution_count": 2,
   "metadata": {},
   "outputs": [
    {
     "name": "stdout",
     "output_type": "stream",
     "text": [
      "(5689862, 5)\n"
     ]
    },
    {
     "data": {
      "text/html": [
       "<div>\n",
       "<style scoped>\n",
       "    .dataframe tbody tr th:only-of-type {\n",
       "        vertical-align: middle;\n",
       "    }\n",
       "\n",
       "    .dataframe tbody tr th {\n",
       "        vertical-align: top;\n",
       "    }\n",
       "\n",
       "    .dataframe thead th {\n",
       "        text-align: right;\n",
       "    }\n",
       "</style>\n",
       "<table border=\"1\" class=\"dataframe\">\n",
       "  <thead>\n",
       "    <tr style=\"text-align: right;\">\n",
       "      <th></th>\n",
       "      <th>article_url</th>\n",
       "      <th>commentor</th>\n",
       "      <th>comment_datetime</th>\n",
       "      <th>comment_body</th>\n",
       "      <th>scrape_datetime</th>\n",
       "    </tr>\n",
       "  </thead>\n",
       "  <tbody>\n",
       "    <tr>\n",
       "      <th>0</th>\n",
       "      <td>https://profootballtalk.nbcsports.com/2020/10/...</td>\n",
       "      <td>amaf21</td>\n",
       "      <td>October 25, 2020 at 10:57 am</td>\n",
       "      <td>\\nthe best bet is the cowboys giving up 10 sac...</td>\n",
       "      <td>2020-10-28 19:15:17.148123</td>\n",
       "    </tr>\n",
       "    <tr>\n",
       "      <th>1</th>\n",
       "      <td>https://profootballtalk.nbcsports.com/2020/10/...</td>\n",
       "      <td>amaf21</td>\n",
       "      <td>October 25, 2020 at 1:20 pm</td>\n",
       "      <td>\\n1 strip sack for a safety down, 9 more to go...</td>\n",
       "      <td>2020-10-28 19:15:17.148123</td>\n",
       "    </tr>\n",
       "    <tr>\n",
       "      <th>2</th>\n",
       "      <td>https://profootballtalk.nbcsports.com/2020/10/...</td>\n",
       "      <td>eagleswin</td>\n",
       "      <td>October 25, 2020 at 10:46 am</td>\n",
       "      <td>\\nTalent still trumps all in the NFL.  In betw...</td>\n",
       "      <td>2020-10-28 19:15:17.169123</td>\n",
       "    </tr>\n",
       "    <tr>\n",
       "      <th>3</th>\n",
       "      <td>https://profootballtalk.nbcsports.com/2020/10/...</td>\n",
       "      <td>cobrala2</td>\n",
       "      <td>October 25, 2020 at 10:54 am</td>\n",
       "      <td>\\nTom Brady wants this guy.\\n</td>\n",
       "      <td>2020-10-28 19:15:17.169123</td>\n",
       "    </tr>\n",
       "    <tr>\n",
       "      <th>4</th>\n",
       "      <td>https://profootballtalk.nbcsports.com/2020/10/...</td>\n",
       "      <td>freakylj8</td>\n",
       "      <td>October 25, 2020 at 11:01 am</td>\n",
       "      <td>\\nUse AB to let Godwin get healthy I guess\\n</td>\n",
       "      <td>2020-10-28 19:15:17.169123</td>\n",
       "    </tr>\n",
       "  </tbody>\n",
       "</table>\n",
       "</div>"
      ],
      "text/plain": [
       "                                         article_url  commentor  \\\n",
       "0  https://profootballtalk.nbcsports.com/2020/10/...     amaf21   \n",
       "1  https://profootballtalk.nbcsports.com/2020/10/...     amaf21   \n",
       "2  https://profootballtalk.nbcsports.com/2020/10/...  eagleswin   \n",
       "3  https://profootballtalk.nbcsports.com/2020/10/...   cobrala2   \n",
       "4  https://profootballtalk.nbcsports.com/2020/10/...  freakylj8   \n",
       "\n",
       "               comment_datetime  \\\n",
       "0  October 25, 2020 at 10:57 am   \n",
       "1   October 25, 2020 at 1:20 pm   \n",
       "2  October 25, 2020 at 10:46 am   \n",
       "3  October 25, 2020 at 10:54 am   \n",
       "4  October 25, 2020 at 11:01 am   \n",
       "\n",
       "                                        comment_body  \\\n",
       "0  \\nthe best bet is the cowboys giving up 10 sac...   \n",
       "1  \\n1 strip sack for a safety down, 9 more to go...   \n",
       "2  \\nTalent still trumps all in the NFL.  In betw...   \n",
       "3                     \\nTom Brady wants this guy.\\n    \n",
       "4      \\nUse AB to let Godwin get healthy I guess\\n    \n",
       "\n",
       "              scrape_datetime  \n",
       "0  2020-10-28 19:15:17.148123  \n",
       "1  2020-10-28 19:15:17.148123  \n",
       "2  2020-10-28 19:15:17.169123  \n",
       "3  2020-10-28 19:15:17.169123  \n",
       "4  2020-10-28 19:15:17.169123  "
      ]
     },
     "execution_count": 2,
     "metadata": {},
     "output_type": "execute_result"
    }
   ],
   "source": [
    "comments = pd.read_csv('data/raw/pft_comments_collected_20201028.csv', header=0)\n",
    "print(comments.shape)\n",
    "comments.head()"
   ]
  },
  {
   "cell_type": "code",
   "execution_count": 3,
   "metadata": {},
   "outputs": [
    {
     "data": {
      "text/plain": [
       "196128"
      ]
     },
     "execution_count": 3,
     "metadata": {},
     "output_type": "execute_result"
    }
   ],
   "source": [
    "comments.article_url.nunique()"
   ]
  },
  {
   "cell_type": "code",
   "execution_count": 9,
   "metadata": {},
   "outputs": [
    {
     "data": {
      "text/plain": [
       "(5689844, 5)"
      ]
     },
     "execution_count": 9,
     "metadata": {},
     "output_type": "execute_result"
    }
   ],
   "source": [
    "comments_no_headers = comments[comments.article_url != 'article_url']\n",
    "comments_no_headers.shape"
   ]
  },
  {
   "cell_type": "code",
   "execution_count": null,
   "metadata": {},
   "outputs": [],
   "source": []
  }
 ],
 "metadata": {
  "kernelspec": {
   "display_name": "pft",
   "language": "python",
   "name": "pft"
  },
  "language_info": {
   "codemirror_mode": {
    "name": "ipython",
    "version": 3
   },
   "file_extension": ".py",
   "mimetype": "text/x-python",
   "name": "python",
   "nbconvert_exporter": "python",
   "pygments_lexer": "ipython3",
   "version": "3.8.5"
  }
 },
 "nbformat": 4,
 "nbformat_minor": 4
}
