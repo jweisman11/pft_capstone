{
 "cells": [
  {
   "cell_type": "code",
   "execution_count": null,
   "metadata": {},
   "outputs": [],
   "source": [
    "# Import libraries\n",
    "import pandas as pd\n",
    "import numpy as np\n",
    "import re\n",
    "import os \n",
    "import datetime as dt\n",
    "\n",
    "# Import viz\n",
    "import plotly.graph_objects as go\n",
    "from plotly.offline import download_plotlyjs, init_notebook_mode, plot, iplot\n",
    "init_notebook_mode(connected=False)\n",
    "\n",
    "# Pandas display options\n",
    "pd.options.display.max_columns = 50\n",
    "pd.options.display.max_rows = 10\n",
    "pd.options.display.max_colwidth = 50\n",
    "pd.set_option.precision = 3"
   ]
  },
  {
   "cell_type": "markdown",
   "metadata": {},
   "source": [
    "### Load the article data"
   ]
  },
  {
   "cell_type": "code",
   "execution_count": null,
   "metadata": {},
   "outputs": [],
   "source": [
    "# Load articles w/ comments\n",
    "print(os.listdir('../data/raw/'))\n",
    "articles = pd.read_csv('../data/raw/pft_articles_collected_w_comment_counts_20201017.csv', header=0)\n",
    "articles.shape"
   ]
  },
  {
   "cell_type": "code",
   "execution_count": null,
   "metadata": {},
   "outputs": [],
   "source": [
    "# Inspect the head of the data\n",
    "articles.head()"
   ]
  },
  {
   "cell_type": "markdown",
   "metadata": {},
   "source": [
    "### Check for null values"
   ]
  },
  {
   "cell_type": "code",
   "execution_count": null,
   "metadata": {},
   "outputs": [],
   "source": [
    "# Looks like we're missing some authors and our dates are being recognized as dates\n",
    "articles.info()"
   ]
  },
  {
   "cell_type": "code",
   "execution_count": null,
   "metadata": {},
   "outputs": [],
   "source": [
    "articles[articles.article_author.isnull()]"
   ]
  },
  {
   "cell_type": "markdown",
   "metadata": {},
   "source": [
    "### Check for uniqueness"
   ]
  },
  {
   "cell_type": "code",
   "execution_count": null,
   "metadata": {},
   "outputs": [],
   "source": [
    "# Looks like no columns are entirely unique but article URL is the most unique\n",
    "articles.describe(datetime_is_numeric=False)"
   ]
  },
  {
   "cell_type": "code",
   "execution_count": null,
   "metadata": {},
   "outputs": [],
   "source": [
    "article_url_counts = pd.DataFrame(articles[['article_url']].article_url.value_counts() > 1)\n",
    "article_url_counts[article_url_counts.article_url == True]"
   ]
  },
  {
   "cell_type": "markdown",
   "metadata": {},
   "source": [
    "### Check for correct dtypes"
   ]
  },
  {
   "cell_type": "code",
   "execution_count": null,
   "metadata": {},
   "outputs": [],
   "source": [
    "# Both the dates are being treated as objects but we really only care about post_date so let's fix that\n",
    "articles.dtypes"
   ]
  },
  {
   "cell_type": "code",
   "execution_count": null,
   "metadata": {},
   "outputs": [],
   "source": [
    "articles['article_post_date'].head()"
   ]
  },
  {
   "cell_type": "code",
   "execution_count": null,
   "metadata": {},
   "outputs": [],
   "source": [
    "# post_dates are formatted as: Month DD, YYYY, HH:MM [AM|PM] [EDT|EST] \n",
    "# %B %d, %Y, %I:%M %p\n",
    "\n",
    "post_date_dict = dict()\n",
    "for post_date in articles['article_post_date'].unique():\n",
    "    if 'EDT' in post_date:\n",
    "        date = dt.datetime.strptime(post_date, '%B %d, %Y, %I:%M %p EDT')\n",
    "    if 'EST' in post_date:\n",
    "        date = dt.datetime.strptime(post_date, '%B %d, %Y, %I:%M %p EST')\n",
    "    if date not in post_date_dict.keys():\n",
    "        post_date_dict[post_date] = date\n",
    "\n",
    "articles['post_datetime'] = articles['article_post_date'].map(post_date_dict)\n",
    "articles[['article_post_date','post_datetime']].head()"
   ]
  },
  {
   "cell_type": "markdown",
   "metadata": {},
   "source": [
    "### Clean article author and comment count columns"
   ]
  },
  {
   "cell_type": "code",
   "execution_count": null,
   "metadata": {},
   "outputs": [],
   "source": [
    "# Inspect the two columns that need cleaning\n",
    "articles[['article_author','comment_count']].head()"
   ]
  },
  {
   "cell_type": "code",
   "execution_count": null,
   "metadata": {},
   "outputs": [],
   "source": [
    "# Looks like we have 1 invalid value in the author column\n",
    "author_dict = dict()\n",
    "for author in articles['article_author'].unique():\n",
    "    if isinstance(author, str):\n",
    "        author1 = author.strip()\n",
    "        if author1.startswith('Posted by'):\n",
    "            author_clean = author1.replace('Posted by','')\n",
    "            if author_clean == ' NBC Sports':\n",
    "                author_clean = 'NBCSports.com'\n",
    "            if author_clean == ' nickmensio':\n",
    "                author_clean = 'Nick Mensio'\n",
    "            if author not in author_dict.keys():\n",
    "                author_dict[author] = author_clean.strip()\n",
    "    else:\n",
    "        author_dict[author] = ''\n",
    "\n",
    "articles['author'] = articles['article_author'].map(author_dict)\n",
    "articles['author'].value_counts().head(30)"
   ]
  },
  {
   "cell_type": "code",
   "execution_count": null,
   "metadata": {},
   "outputs": [],
   "source": [
    "# Looks like we have at least 1 invalid value in comment count column\n",
    "comment_dict = dict()\n",
    "for c in articles['comment_count'].unique():\n",
    "    number = c.replace(',', '').split(' ')[0]\n",
    "    try:\n",
    "        number = int(number)\n",
    "        comment_dict[c] = number\n",
    "    except:\n",
    "        comment_dict[c] = np.NaN\n",
    "\n",
    "articles['comment_counts'] = articles['comment_count'].map(comment_dict)\n",
    "articles['comment_counts'].value_counts(sort=False, dropna=False)"
   ]
  },
  {
   "cell_type": "code",
   "execution_count": null,
   "metadata": {},
   "outputs": [],
   "source": [
    "# Inspect the two columns now that they've been cleaned\n",
    "articles[['author','comment_counts']].head()"
   ]
  },
  {
   "cell_type": "markdown",
   "metadata": {},
   "source": [
    "### Remove incorrectly collected records"
   ]
  },
  {
   "cell_type": "code",
   "execution_count": null,
   "metadata": {},
   "outputs": [],
   "source": []
  },
  {
   "cell_type": "code",
   "execution_count": null,
   "metadata": {},
   "outputs": [],
   "source": [
    "# oward Kunreuther and Erwann Michel-Kerjan discusses the importance of the law and the NFL’s efforts to lobby Congress to renew it.  But there’s no indication that they asked the NFL whether the Super Bowl would indeed be in danger of not being played absent renewal of the TRIA.        1"
   ]
  }
 ],
 "metadata": {
  "kernelspec": {
   "display_name": "pft",
   "language": "python",
   "name": "pft"
  },
  "language_info": {
   "codemirror_mode": {
    "name": "ipython",
    "version": 3
   },
   "file_extension": ".py",
   "mimetype": "text/x-python",
   "name": "python",
   "nbconvert_exporter": "python",
   "pygments_lexer": "ipython3",
   "version": "3.8.5"
  }
 },
 "nbformat": 4,
 "nbformat_minor": 4
}
